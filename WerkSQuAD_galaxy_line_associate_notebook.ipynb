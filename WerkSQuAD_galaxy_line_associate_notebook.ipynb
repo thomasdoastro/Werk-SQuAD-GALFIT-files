{
 "cells": [
  {
   "cell_type": "markdown",
   "id": "5761df94-ed41-4c0b-8c78-7b3ecfc86eee",
   "metadata": {},
   "source": [
    "Important: Have this notebook in the same directory as WerkSQuAD_galaxy_line_associate_functions.py"
   ]
  },
  {
   "cell_type": "code",
   "execution_count": null,
   "id": "2c6b7fb2-226c-461d-a55d-9faf22a87597",
   "metadata": {},
   "outputs": [],
   "source": [
    "import numpy as np\n",
    "import pandas as pd\n",
    "\n",
    "from astropy.io import fits\n",
    "from astropy.table import Table\n",
    "\n",
    "import WerkSQuAD_galaxy_line_associate_functions as glass\n",
    "from importlib import reload\n",
    "reload(glass)"
   ]
  },
  {
   "cell_type": "markdown",
   "id": "bd73d26e-7b9b-411f-b4e1-5cee46eb3a52",
   "metadata": {},
   "source": [
    "To use this notebook, be sure to fill in all strings and paths below correctly. If you want to use the association function on multiple fields, copy and paste the cell below as many times as you need it. Then fill in the strings and paths to get the associations you need."
   ]
  },
  {
   "cell_type": "code",
   "execution_count": null,
   "id": "f7b3d05e-589b-4a7e-bd2c-ed6af06a7d72",
   "metadata": {},
   "outputs": [],
   "source": [
    "# Define all strings before running!!!\n",
    "\n",
    "# The path to the best_fit_parameters csv you get from running GALFIT\n",
    "galfit_csv_path = './JXXXX+XXXX_GEM_bestfit.csv'\n",
    "\n",
    "# The path to the full galaxy table\n",
    "full_galaxy_path = './cgmsquared_full_galaxy_table.fits'\n",
    "\n",
    "# The path to the all_vp.csv file (contains all of the WerkSQuAD spectral lines)\n",
    "line_csv_path = './all_vp.csv'\n",
    "\n",
    "# Name of the qso field\n",
    "qso_name = 'JXXXX+XXXX'\n",
    "\n",
    "df1 = glass.associate_line_galaxy(galfit_csv_path = galfit_csv_path,\n",
    "                                  full_galaxy_path = full_galaxy_path,\n",
    "                                  line_csv_path = line_csv_path,\n",
    "                                  qso_name = qso_name,\n",
    "                                  rec_vel_threshold = 500)\n",
    "\n",
    "df1"
   ]
  },
  {
   "cell_type": "code",
   "execution_count": null,
   "id": "d17a4018-f88d-41a7-90b5-b5d8daa006d4",
   "metadata": {},
   "outputs": [],
   "source": []
  }
 ],
 "metadata": {
  "kernelspec": {
   "display_name": "Python 3 (ipykernel)",
   "language": "python",
   "name": "python3"
  },
  "language_info": {
   "codemirror_mode": {
    "name": "ipython",
    "version": 3
   },
   "file_extension": ".py",
   "mimetype": "text/x-python",
   "name": "python",
   "nbconvert_exporter": "python",
   "pygments_lexer": "ipython3",
   "version": "3.9.12"
  }
 },
 "nbformat": 4,
 "nbformat_minor": 5
}
