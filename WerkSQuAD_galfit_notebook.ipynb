{
 "cells": [
  {
   "cell_type": "markdown",
   "id": "1a4cdb8f-501d-4d9b-82a0-38aca3a33cff",
   "metadata": {},
   "source": [
    "To use this notebook, you should have make_input_file.py and galfitwrap.py in the same directory as this notebook\n",
    "\n",
    "It's also recommended to have the cgmsquared_full_galaxy_table.fits file and both the flattened and unflattened image files in the same directory as this notebook. This means you can simply enter the name of the file wherever the notebook calls for a file path."
   ]
  },
  {
   "cell_type": "code",
   "execution_count": null,
   "id": "2fb9f681-9a00-4922-b151-67a0b0271ce1",
   "metadata": {},
   "outputs": [],
   "source": [
    "import numpy as np\n",
    "import pandas as pd\n",
    "\n",
    "from astropy.io import fits\n",
    "from astropy.table import Table\n",
    "\n",
    "from astropy.coordinates import SkyCoord\n",
    "from astropy.wcs import WCS\n",
    "\n",
    "import WerkSQuAD_galfit_functions as galf\n",
    "import Display_galaxies_V4 as dis\n",
    "from importlib import reload\n",
    "reload(galf)\n",
    "reload(dis)"
   ]
  },
  {
   "cell_type": "code",
   "execution_count": null,
   "id": "65141458-2a97-4bd1-984a-1c6dde9fe0b0",
   "metadata": {},
   "outputs": [],
   "source": [
    "# Define all strings here before running everything!!!\n",
    "\n",
    "# Path to cgmsquared_full_galaxy_table.fits\n",
    "path_to_full_galaxy_table = './cgmsquared_full_galaxy_table.fits'\n",
    "\n",
    "# Name of the qso (format: JXXXX+XXXX)\n",
    "qso_name = 'JXXXX+XXXX'\n",
    "\n",
    "# The maximum angular distance from the qso to the galaxy\n",
    "max_ang_dist = 0.0333333\n",
    "\n",
    "# The maximum impact parameter considered\n",
    "max_rho_impact = 500 # kpc\n",
    "\n",
    "# The maximum redshift considered\n",
    "max_z = 0.65\n",
    "\n",
    "# Initial guess of the integrated magnitude for all galaxies\n",
    "int_mag = 16\n",
    "\n",
    "# Path to the UNFLATTENED fits file\n",
    "unflat_data = 'JXXXX+XXXX_GEM.fits'\n",
    "\n",
    "# For finding galaxy x and y coordinates, add an offset if needed\n",
    "X_pixels = 0 # pixels\n",
    "Y_pixels = 0 # pixels\n",
    "\n",
    "# Name of the FLATTENED fits file you want to make\n",
    "flat_data = 'JXXXX+XXXX_GEM_flat.fits'\n",
    "\n",
    "# Name of the final fits file\n",
    "final_fits_name = 'JXXXX+XXXX_GEM_output.fits'\n",
    "\n",
    "# Name of the input files to run\n",
    "input_file_name = 'JXXXX+XXXX_GEM_input.txt'\n",
    "\n",
    "# Name of the input PSF (if any). Otherwise, leave as 'none'\n",
    "psf = 'none'\n",
    "\n",
    "# Name of the mask (if any). Otherwise, leave as 'none'\n",
    "mask = 'none'\n",
    "\n",
    "# Photometric zeropoint\n",
    "ZP = 27.85\n",
    "\n",
    "# Pixel scale\n",
    "pix_scale = 'X.XX X.XX'\n",
    "\n",
    "# Length of the square region to get small galaxy image\n",
    "region_length = 100\n",
    "\n",
    "# Best fit parameter CSV file\n",
    "final_csv = 'JXXXX+XXXX_GEM_bestfit.csv'"
   ]
  },
  {
   "cell_type": "code",
   "execution_count": null,
   "id": "d98bb355-acce-4a9b-90a5-6752fd933644",
   "metadata": {},
   "outputs": [],
   "source": [
    "# to make the flattened fits file from the original:\n",
    "with fits.open(unflat_data) as hdulist:\n",
    "    hdu = hdulist[1]\n",
    "    phdu = fits.PrimaryHDU(hdu.data,\n",
    "                           header=hdu.header)\n",
    "    phdu.writeto(flat_data,\n",
    "                 overwrite=True)"
   ]
  },
  {
   "cell_type": "code",
   "execution_count": null,
   "id": "582c3a41-3bf5-4108-8bb8-bcc88e179942",
   "metadata": {},
   "outputs": [],
   "source": [
    "# Gets the cgmsquared_full_galaxy_table.fits file and turns it into a Pandas DataFrame\n",
    "# See Function 1 in galfit_functions_v19_22.py\n",
    "\n",
    "full_galaxy_df = galf.make_full_galaxy_table(path=path_to_full_galaxy_table)"
   ]
  },
  {
   "cell_type": "code",
   "execution_count": null,
   "id": "f220c1a5-39e3-4157-9af3-16432b5f3569",
   "metadata": {},
   "outputs": [],
   "source": [
    "# Filters out unwanted galaxies from the table \n",
    "# See Function 2 in galfit_functions_v19_22.py\n",
    "\n",
    "df_nearqso = galf.select_near_qso(\n",
    "    full_galaxy_df=full_galaxy_df,\n",
    "    qso_name=qso_name,\n",
    "    max_ang_dist=max_ang_dist,\n",
    "    max_rho_impact=max_rho_impact,\n",
    "    max_z=max_z,\n",
    "    include_SFE=True\n",
    ")"
   ]
  },
  {
   "cell_type": "code",
   "execution_count": null,
   "id": "b9661419-d5b9-467b-8121-15eb1cb57bd6",
   "metadata": {
    "tags": []
   },
   "outputs": [],
   "source": [
    "df_nearqso"
   ]
  },
  {
   "cell_type": "code",
   "execution_count": null,
   "id": "ec0ecdde-306d-4434-8509-76770dad90d0",
   "metadata": {},
   "outputs": [],
   "source": [
    "# Convert world coordinates for each galaxy to image pixel coordinates\n",
    "# See Function 3 in galfit_functions_v19_22.py\n",
    "\n",
    "coords = galf.get_pix_coords(\n",
    "    path=unflat_data,\n",
    "    df_nearqso=df_nearqso,\n",
    "    x_offset= X_pixels,\n",
    "    y_offset= Y_pixels\n",
    ")"
   ]
  },
  {
   "cell_type": "code",
   "execution_count": null,
   "id": "0f235abf-e02a-4d20-a5a0-b05ae9931e9f",
   "metadata": {},
   "outputs": [],
   "source": [
    "coords"
   ]
  },
  {
   "cell_type": "code",
   "execution_count": null,
   "id": "8c4b26ae-c263-4319-9589-ee45bda83a91",
   "metadata": {},
   "outputs": [],
   "source": [
    "# Prepare the models which will go into the input files to run\n",
    "# See Function 4 in galfit_functions_v19_22.py\n",
    "\n",
    "models = galf.make_models(coords=coords,\n",
    "                          int_mag=int_mag)"
   ]
  },
  {
   "cell_type": "code",
   "execution_count": null,
   "id": "eba92ec8-1104-4b78-ba04-9022c539d666",
   "metadata": {},
   "outputs": [],
   "source": [
    "# Takes the average of the image's pixel values so we can assume that value for the background\n",
    "# See Function 5 in galfit_functions_v19_22.py\n",
    "\n",
    "sky = galf.make_sky_model(path=flat_data)"
   ]
  },
  {
   "cell_type": "code",
   "execution_count": null,
   "id": "748df1c0-d9da-481d-b69b-6a46fb176601",
   "metadata": {},
   "outputs": [],
   "source": [
    "# Makes all of the input files (one for each galaxy)\n",
    "# See Function 6 in galfit_functions_v19_22.py\n",
    "\n",
    "galf.CreateFile(\n",
    "    Iimg=flat_data,\n",
    "    coords=coords,\n",
    "    models=models,\n",
    "    psf=psf,\n",
    "    mask=mask,\n",
    "    final_fits=final_fits_name,\n",
    "    input_file=input_file_name,\n",
    "    ZP=ZP,\n",
    "    scale=pix_scale,\n",
    "    size=region_length / 2,\n",
    "    sky=sky\n",
    ")"
   ]
  },
  {
   "cell_type": "markdown",
   "id": "378e0266-9692-4bac-85e1-2a80be793f7e",
   "metadata": {},
   "source": [
    "CreateFile always returns a 0. If you look in your working directory you should see the input file which you can now put into galfit."
   ]
  },
  {
   "cell_type": "code",
   "execution_count": null,
   "id": "1bc22962-abfe-4aeb-b7d4-14366fa1b292",
   "metadata": {},
   "outputs": [],
   "source": [
    "# Creates a string which you can copy/paste into the terminal (in the same directory) to run all files\n",
    "# See Function 7 in galfit_functions_v19_22.py\n",
    "\n",
    "put_into_terminal = galf.run_all(coords=coords,\n",
    "                                 input_file=input_file_name)\n",
    "\n",
    "print(put_into_terminal)\n",
    "\n",
    "# Copy and paste the string below into the terminal in the same directory as all your input files"
   ]
  },
  {
   "cell_type": "markdown",
   "id": "3aa346d0-8991-4183-a87f-39e1ee75b917",
   "metadata": {},
   "source": [
    "# Run Alexandre's code for displaying galaxies to check the goodness of fits"
   ]
  },
  {
   "cell_type": "code",
   "execution_count": null,
   "id": "0719f899-b7bd-424a-9ae9-0f4b77b8453d",
   "metadata": {},
   "outputs": [],
   "source": [
    "bad = []\n",
    "double_method = []\n",
    "internal_struct = []\n",
    "edited = []\n",
    "multi_gal = []\n",
    "\n",
    "dis.display_galaxies('./', final_fits_name.replace('.fits', ''), input_file_name.replace('.txt', ''),\n",
    "                    fieldname = qso_name,\n",
    "                    mask_name = mask,\n",
    "                    Bad_galaxy_list = bad,\n",
    "                    galaxy_with_holes = double_method,\n",
    "                    list_gal_with_Residual = internal_struct,\n",
    "                    list_edited_gal = edited,\n",
    "                    list_gal_Multi_galaxy = multi_gal,\n",
    "                    Half_light_minimum = 3,\n",
    "                    Info_option = True,\n",
    "                    Flag_option = False)"
   ]
  },
  {
   "cell_type": "markdown",
   "id": "d0c28732-aa79-4335-9573-d13c35291b70",
   "metadata": {},
   "source": [
    "# Make models look as good as humanly possible before proceeding"
   ]
  },
  {
   "cell_type": "code",
   "execution_count": null,
   "id": "eabb2d15-68b1-4e1e-bfa0-42ed61ec0281",
   "metadata": {},
   "outputs": [],
   "source": [
    "# Read in the information from the fit.log file\n",
    "# See Function 8 in galfit_functions_v19_22.py\n",
    "# Remember to define coords above!\n",
    "\n",
    "best_fit_table = galf.extract_best_fit_param(path='./fit.log',\n",
    "                                             df_nearqso=df_nearqso,\n",
    "                                             coords=coords)\n",
    "best_fit_table"
   ]
  },
  {
   "cell_type": "markdown",
   "id": "b39093af-b9e7-4a51-84a2-95831c2b4ad9",
   "metadata": {},
   "source": [
    "# Finding azimuthal angle $\\phi$"
   ]
  },
  {
   "cell_type": "code",
   "execution_count": null,
   "id": "0c31f5d0-5e09-41a1-a306-7411ba0dd8de",
   "metadata": {},
   "outputs": [],
   "source": [
    "# See Function 10 in galfit_functions_v19_22.py\n",
    "\n",
    "best_fit_table = galf.find_phi(unflattened_data=unflat_data,\n",
    "                               near_qso_df=df_nearqso,\n",
    "                               best_fit_table=best_fit_table)\n",
    "best_fit_table"
   ]
  },
  {
   "cell_type": "markdown",
   "id": "02844e72-c936-4eb2-8b38-bbd9e09cb9e8",
   "metadata": {},
   "source": [
    "# Finding inclination angle $i$"
   ]
  },
  {
   "cell_type": "code",
   "execution_count": null,
   "id": "ca388491-3c34-44fa-a235-758ca12e32b8",
   "metadata": {},
   "outputs": [],
   "source": [
    "best_fit_table = galf.find_inclination(best_fit_table=best_fit_table)\n",
    "best_fit_table"
   ]
  },
  {
   "cell_type": "markdown",
   "id": "f19180b3-4fbe-4a19-a2f2-a699615bbd0e",
   "metadata": {},
   "source": [
    "# Applying flags"
   ]
  },
  {
   "cell_type": "markdown",
   "id": "ed804293-6316-42ef-bf3d-fbd480068a91",
   "metadata": {},
   "source": [
    "If applicable, you need to enter galaxy numbers below before proceeding:"
   ]
  },
  {
   "cell_type": "code",
   "execution_count": null,
   "id": "77fc4101-247c-4fe1-b138-68534399c1a1",
   "metadata": {},
   "outputs": [],
   "source": [
    "# Enter galaxy field-specific numbers as list ([x, y, z, ...])\n",
    "# Field-specific numbers start at 0 for all qso fields\n",
    "# Field-specific numbers will be the first number after the qso name\n",
    "\n",
    "bad_fits_in = [] # Bad fit galaxies\n",
    "internal_struct_in = [] # Galaxies where there are weird patterns in disk (internal structure)\n",
    "overlap_in = [] # Galaxies where other objects/galaxies overlap at least somewhat\n",
    "pixel_thresh = 3 # Number of pixels to compare galaxy size to\n",
    "edited_in = [] # Galaxies which had their fit parameters changed from their default values\n",
    "double_model_in = [] # Galaxies which used double profiles on top of each other\n"
   ]
  },
  {
   "cell_type": "code",
   "execution_count": null,
   "id": "21d3616c-261b-412e-b242-c59e415d6d46",
   "metadata": {},
   "outputs": [],
   "source": [
    "best_fit_table = galf.apply_flags(best_fit_table=best_fit_table,\n",
    "                                  bad_fits_in=bad_fits_in,\n",
    "                                  internal_struct_in=internal_struct_in,\n",
    "                                  overlap_in=overlap_in,\n",
    "                                  pixel_thresh=pixel_thresh,\n",
    "                                  edited_in=edited_in,\n",
    "                                  double_model_in=double_model_in)\n",
    "best_fit_table"
   ]
  },
  {
   "cell_type": "markdown",
   "id": "1999cbb0-1bff-4301-b244-7e3d48592d44",
   "metadata": {},
   "source": [
    "# Export Galfit's best fit parameters as a csv file"
   ]
  },
  {
   "cell_type": "code",
   "execution_count": null,
   "id": "b8d1674c-c96d-44f5-b29c-766d5914967c",
   "metadata": {},
   "outputs": [],
   "source": [
    "best_fit_table.to_csv(final_csv, index=False)"
   ]
  },
  {
   "cell_type": "code",
   "execution_count": null,
   "id": "3bcf97ad-acf1-4f94-b514-fb58a950395b",
   "metadata": {},
   "outputs": [],
   "source": []
  }
 ],
 "metadata": {
  "kernelspec": {
   "display_name": "Python 3 (ipykernel)",
   "language": "python",
   "name": "python3"
  },
  "language_info": {
   "codemirror_mode": {
    "name": "ipython",
    "version": 3
   },
   "file_extension": ".py",
   "mimetype": "text/x-python",
   "name": "python",
   "nbconvert_exporter": "python",
   "pygments_lexer": "ipython3",
   "version": "3.9.12"
  }
 },
 "nbformat": 4,
 "nbformat_minor": 5
}

